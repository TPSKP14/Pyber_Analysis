{
 "cells": [
  {
   "cell_type": "code",
   "execution_count": null,
   "id": "6c3bc51c",
   "metadata": {},
   "outputs": [],
   "source": [
    "# Files to load\n",
    "Class_practice = \"5-1 Student_Resources02-Evr_LegendaryTemperature\\Unsolved\\legendart_\n",
    "student_data_to_load = \"Resources/students_complete.csv\"\n",
    "\n",
    "C:\\Users\\thoma\\Class\\5-1-Student_Resources\\02-Evr_LegendaryTemperature\\Unsolved"
   ]
  }
 ],
 "metadata": {
  "kernelspec": {
   "display_name": "Python 3 (ipykernel)",
   "language": "python",
   "name": "python3"
  },
  "language_info": {
   "codemirror_mode": {
    "name": "ipython",
    "version": 3
   },
   "file_extension": ".py",
   "mimetype": "text/x-python",
   "name": "python",
   "nbconvert_exporter": "python",
   "pygments_lexer": "ipython3",
   "version": "3.8.8"
  }
 },
 "nbformat": 4,
 "nbformat_minor": 5
}
